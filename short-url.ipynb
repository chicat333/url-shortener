{
 "cells": [
  {
   "cell_type": "code",
   "execution_count": null,
   "id": "a543a016-edb4-4d5d-90de-86c671dc98b5",
   "metadata": {},
   "outputs": [],
   "source": [
    "!pip install pyshorteners\n",
    "!pip install pyperclip\n",
    "from tkinter import *\n",
    "import pyshorteners "
   ]
  },
  {
   "cell_type": "code",
   "execution_count": null,
   "id": "5f564bc6-f648-48df-8e45-5938cd8153c6",
   "metadata": {},
   "outputs": [],
   "source": [
    "root=Tk()\n",
    "root.geometry(\"500x500\")\n",
    "root.title(\"URL Shortener\")"
   ]
  },
  {
   "cell_type": "code",
   "execution_count": null,
   "id": "a6bb0266-9ad0-41b2-9d2c-7b9151a27b5f",
   "metadata": {},
   "outputs": [],
   "source": [
    "l1=Label(root,text=\"Tiny URL Generator\",fg=\"Olive\",font=(\"Arial 25 bold\")).pack(padx=20,pady=20)\n",
    "\n",
    "f1=Frame(root)\n",
    "Label(f1,text=\"Input URL\",font=(\"Arial 15\")).pack(side=LEFT)\n",
    "\n",
    "url=Entry(f1,width=40,font=(\"Arial 15\"))\n",
    "url.pack()\n",
    "f1.pack(pady=40)\n",
    "\n",
    "def gen_url():\n",
    "    url_entry=url.get()\n",
    "    result=pyshorteners.Shortener().tinyurl.short(url_entry)\n",
    "    url_output.delete(0,END)\n",
    "    url_output.insert(END,result)\n",
    "    \n",
    "\n",
    "b=Button(root,text=\"Generate link\", font=(\"Arial 10 bold\"), command=gen_url).pack(pady=10)\n",
    "\n",
    "\n",
    "f2=Frame(root)\n",
    "Label(f2,text=\"Output URL\", font=(\"Arial 15\")).pack(side=LEFT)\n",
    "\n",
    "url_output=Entry(f2,width=40,font=(\"Arial 15\"))\n",
    "url_output.pack()\n",
    "f2.pack(pady=10)"
   ]
  },
  {
   "cell_type": "code",
   "execution_count": null,
   "id": "82651050-3f77-4666-8248-7f8eb85bdf5c",
   "metadata": {},
   "outputs": [],
   "source": [
    "root.mainloop()"
   ]
  },
  {
   "cell_type": "code",
   "execution_count": null,
   "id": "d6a14491-c3d5-413b-bc5d-64c96cd92286",
   "metadata": {},
   "outputs": [],
   "source": []
  }
 ],
 "metadata": {
  "kernelspec": {
   "display_name": "Python 3 (ipykernel)",
   "language": "python",
   "name": "python3"
  },
  "language_info": {
   "codemirror_mode": {
    "name": "ipython",
    "version": 3
   },
   "file_extension": ".py",
   "mimetype": "text/x-python",
   "name": "python",
   "nbconvert_exporter": "python",
   "pygments_lexer": "ipython3",
   "version": "3.12.4"
  }
 },
 "nbformat": 4,
 "nbformat_minor": 5
}
